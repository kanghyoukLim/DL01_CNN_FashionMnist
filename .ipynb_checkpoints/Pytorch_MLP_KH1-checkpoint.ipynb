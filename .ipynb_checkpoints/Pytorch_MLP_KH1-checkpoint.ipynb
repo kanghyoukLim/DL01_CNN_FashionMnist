{
 "cells": [
  {
   "cell_type": "code",
   "execution_count": 1,
   "id": "f547bfbb-fd68-4945-b45c-311beeffa997",
   "metadata": {},
   "outputs": [],
   "source": [
    "# pip install torchsummary"
   ]
  },
  {
   "cell_type": "code",
   "execution_count": 2,
   "id": "2ff943fe-ccc1-4835-b97b-797aa7273dba",
   "metadata": {},
   "outputs": [],
   "source": [
    "# import numpy as np\n",
    "# import matplotlib.pyplot as plt\n",
    "# import torch\n",
    "# import torch.nn as nn\n",
    "# import torchvision\n",
    "# from tqdm import tqdm\n",
    "# import torchsummary"
   ]
  },
  {
   "cell_type": "code",
   "execution_count": 3,
   "id": "32f48eaf-fc27-4d02-88e2-96dad5daf5c0",
   "metadata": {},
   "outputs": [],
   "source": [
    "# pip install pandas"
   ]
  },
  {
   "cell_type": "code",
   "execution_count": 4,
   "id": "f33d2aee-ba24-4933-8e77-e37fb591029c",
   "metadata": {},
   "outputs": [
    {
     "name": "stdout",
     "output_type": "stream",
     "text": [
      "CUDA: True      Use << CUDA >>\n",
      "PyTorch Version: 2.0.0\n"
     ]
    }
   ],
   "source": [
    "import numpy as np\n",
    "import matplotlib.pyplot as plt\n",
    "from tqdm import tqdm\n",
    "import torch\n",
    "from torch import nn, optim\n",
    "from torch.utils.data import DataLoader\n",
    "from torchvision import datasets\n",
    "from torchvision.transforms import ToTensor\n",
    " \n",
    "device = 'cuda' if torch.cuda.is_available() else 'cpu'\n",
    "print('CUDA:', torch.cuda.is_available(), '     Use << {} >>'.format(device.upper()))\n",
    "print('PyTorch Version:', torch.__version__)\n",
    " "
   ]
  },
  {
   "cell_type": "code",
   "execution_count": 8,
   "id": "2c99801c-caaf-4fd8-b165-f915012ccf12",
   "metadata": {},
   "outputs": [
    {
     "name": "stderr",
     "output_type": "stream",
     "text": [
      "C:\\Users\\AI-space\\anaconda3\\envs\\ve_torch\\lib\\site-packages\\sklearn\\datasets\\_openml.py:968: FutureWarning: The default value of `parser` will change from `'liac-arff'` to `'auto'` in 1.4. You can set `parser='auto'` to silence this warning. Therefore, an `ImportError` will be raised from 1.4 if the dataset is dense and pandas is not installed. Note that the pandas parser may return different data types. See the Notes Section in fetch_openml's API doc for details.\n",
      "  warn(\n"
     ]
    },
    {
     "data": {
      "image/png": "[encoded data removed]",
      "text/plain": [
       "<Figure size 640x480 with 1 Axes>"
      ]
     },
     "metadata": {},
     "output_type": "display_data"
    },
    {
     "name": "stdout",
     "output_type": "stream",
     "text": [
      "이미지 레이블 : 5\n"
     ]
    }
   ],
   "source": [
    "from sklearn.datasets import fetch_openml\n",
    "mnist = fetch_openml('mnist_784', version=1, cache=True)\n",
    "\n",
    "X = mnist.data/255\n",
    "y = mnist.target\n",
    "\n",
    "# import numpy as np\n",
    "\n",
    "X = np.array(X)\n",
    "y = np.array(y)\n",
    "\n",
    "import matplotlib.pyplot as plt\n",
    "\n",
    "# some_digit = X.to_numpy()[0]\n",
    "# some_digit_image = some_digit.reshape(28,28)\n",
    "\n",
    "plt.imshow(X[0].reshape(28,28), cmap='gray')\n",
    "plt.axis(\"off\")\n",
    "plt.show()\n",
    "print(\"이미지 레이블 : {}\".format(y[0]))\n",
    "\n",
    "import torch\n",
    "from torch.utils.data import TensorDataset, DataLoader\n",
    "from sklearn.model_selection import train_test_split\n",
    "\n",
    "X_train, X_test, y_train, y_test = train_test_split(X,y, test_size=1/7, random_state=0)\n",
    "X_train = torch.Tensor(X_train)\n",
    "X_test = torch.Tensor(X_test)\n",
    "y_train = torch.LongTensor(list(map(int, y_train)))\n",
    "y_test = torch.LongTensor(list(map(int, y_test)))\n",
    "\n",
    "ds_train = TensorDataset(X_train, y_train)\n",
    "ds_test = TensorDataset(X_test, y_test)\n",
    "\n",
    "loader_train = DataLoader(ds_train, batch_size=64, shuffle=True)\n",
    "loader_test = DataLoader(ds_test, batch_size=64, shuffle=False)\n",
    "\n",
    "from torch import nn\n",
    "model = nn.Sequential()\n",
    "model.add_module('fc1', nn.Linear(28*28*1, 100))\n",
    "model.add_module('relu1', nn.ReLU())\n",
    "model.add_module('fc2', nn.Linear(100,100))\n",
    "model.add_module('relu2', nn.ReLU())\n",
    "model.add_module('fc3', nn.Linear(100,10))\n",
    "\n",
    "from torch import optim\n",
    "loss_fn = nn.CrossEntropyLoss()\n",
    "optimizer = optim.Adam(model.parameters(), lr=0.01)\n",
    "\n",
    "def train(epoch):\n",
    "    model.train()\n",
    "    for data, targets in loader_train:\n",
    "        optimizer.zero_grad()\n",
    "        outputs = model(data)\n",
    "        loss = loss_fn(outputs, targets)\n",
    "        loss.backward()\n",
    "        optimizer.step()\n",
    "    print('에포크 {}: 완료'.format(epoch))\n",
    "    \n",
    "def test(head):\n",
    "    model.eval()\n",
    "    correct = 0 \n",
    "    with torch.no_grad():\n",
    "        for data, targets in loader_test:\n",
    "            outputs = model(data)\n",
    "            predicted = torch.max(outputs.data, 1)\n",
    "            correct += predicted.eq(targets.data.view_as(predicted)).sum()\n",
    "    data_num = len(loader_test.dataset)\n",
    "    print('{} 정확도: {}/{}({:.0f}%)'.format(head, correct, data_num, 100.*correct/data_num))\n",
    "    \n",
    "    test('시작')\n",
    "    for epoch in range(3):\n",
    "        train(epoch)\n",
    "        test('학습중')\n",
    "    test('학습 후')\n",
    "    \n",
    "    index = 10\n",
    "    model.eval()\n",
    "    data = X_test[index]\n",
    "    output = model(data)\n",
    "    print('{} 번째 학습데이터의 테스트 결과 : {}'.format(index,output))\n",
    "    predicted = torch.max(output.data, 0)\n",
    "    print('{}번째 데이터의 예측 : {}'.format(index, predicted))\n",
    "    X_test_show = (X_test[index]).numpy()\n",
    "    plt.imshow(X_test_show.reshape(28,28), cmap='gray')\n",
    "    print('실제 레이블:{}'.format(y_test[index]))"
   ]
  },
  {
   "cell_type": "code",
   "execution_count": null,
   "id": "339c885e-0364-4a79-a952-7c90a999dcb2",
   "metadata": {},
   "outputs": [],
   "source": []
  }
 ],
 "metadata": {
  "kernelspec": {
   "display_name": "ve_torch_kernel",
   "language": "python",
   "name": "ve_torch"
  },
  "language_info": {
   "codemirror_mode": {
    "name": "ipython",
    "version": 3
   },
   "file_extension": ".py",
   "mimetype": "text/x-python",
   "name": "python",
   "nbconvert_exporter": "python",
   "pygments_lexer": "ipython3",
   "version": "3.10.11"
  }
 },
 "nbformat": 4,
 "nbformat_minor": 5
}
